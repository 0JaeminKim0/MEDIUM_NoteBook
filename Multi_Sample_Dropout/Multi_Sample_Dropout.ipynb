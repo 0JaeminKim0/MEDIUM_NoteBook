{
 "cells": [
  {
   "cell_type": "code",
   "execution_count": 1,
   "metadata": {},
   "outputs": [
    {
     "name": "stderr",
     "output_type": "stream",
     "text": [
      "Using TensorFlow backend.\n"
     ]
    }
   ],
   "source": [
    "import numpy as np\n",
    "import pandas as pd\n",
    "import matplotlib.pyplot as plt\n",
    "from collections import *\n",
    "import string\n",
    "import itertools\n",
    "\n",
    "from keras.preprocessing.text import Tokenizer\n",
    "from keras.preprocessing.sequence import pad_sequences\n",
    "from keras.layers import *\n",
    "from keras.models import *\n",
    "from keras.callbacks import *\n",
    "from keras.utils import np_utils\n",
    "\n",
    "from sklearn.model_selection import train_test_split\n",
    "from sklearn.metrics import classification_report, confusion_matrix"
   ]
  },
  {
   "cell_type": "code",
   "execution_count": 2,
   "metadata": {},
   "outputs": [],
   "source": [
    "def plot_confusion_matrix(cm, classes, title='Confusion matrix', cmap=plt.cm.Blues):\n",
    "\n",
    "    cm = cm.astype('float') / cm.sum(axis=1)[:, np.newaxis]\n",
    "\n",
    "    plt.imshow(cm, interpolation='nearest', cmap=cmap)\n",
    "    plt.title(title, fontsize=25)\n",
    "    #plt.colorbar()\n",
    "    tick_marks = np.arange(len(classes))\n",
    "    plt.xticks(tick_marks, classes, rotation=90, fontsize=15)\n",
    "    plt.yticks(tick_marks, classes, fontsize=15)\n",
    "\n",
    "    fmt = '.2f'\n",
    "    thresh = cm.max() / 2.\n",
    "    for i, j in itertools.product(range(cm.shape[0]), range(cm.shape[1])):\n",
    "        plt.text(j, i, format(cm[i, j], fmt),\n",
    "                 horizontalalignment=\"center\",\n",
    "                 color=\"white\" if cm[i, j] > thresh else \"black\", fontsize = 14)\n",
    "\n",
    "    plt.ylabel('True label', fontsize=20)\n",
    "    plt.xlabel('Predicted label', fontsize=20)"
   ]
  },
  {
   "cell_type": "code",
   "execution_count": 3,
   "metadata": {},
   "outputs": [
    {
     "name": "stdout",
     "output_type": "stream",
     "text": [
      "(28619, 3)\n"
     ]
    },
    {
     "data": {
      "text/html": [
       "<div>\n",
       "<style scoped>\n",
       "    .dataframe tbody tr th:only-of-type {\n",
       "        vertical-align: middle;\n",
       "    }\n",
       "\n",
       "    .dataframe tbody tr th {\n",
       "        vertical-align: top;\n",
       "    }\n",
       "\n",
       "    .dataframe thead th {\n",
       "        text-align: right;\n",
       "    }\n",
       "</style>\n",
       "<table border=\"1\" class=\"dataframe\">\n",
       "  <thead>\n",
       "    <tr style=\"text-align: right;\">\n",
       "      <th></th>\n",
       "      <th>is_sarcastic</th>\n",
       "      <th>headline</th>\n",
       "      <th>article_link</th>\n",
       "    </tr>\n",
       "  </thead>\n",
       "  <tbody>\n",
       "    <tr>\n",
       "      <td>0</td>\n",
       "      <td>1</td>\n",
       "      <td>thirtysomething scientists unveil doomsday clo...</td>\n",
       "      <td>https://www.theonion.com/thirtysomething-scien...</td>\n",
       "    </tr>\n",
       "    <tr>\n",
       "      <td>1</td>\n",
       "      <td>0</td>\n",
       "      <td>dem rep. totally nails why congress is falling...</td>\n",
       "      <td>https://www.huffingtonpost.com/entry/donna-edw...</td>\n",
       "    </tr>\n",
       "    <tr>\n",
       "      <td>2</td>\n",
       "      <td>0</td>\n",
       "      <td>eat your veggies: 9 deliciously different recipes</td>\n",
       "      <td>https://www.huffingtonpost.com/entry/eat-your-...</td>\n",
       "    </tr>\n",
       "    <tr>\n",
       "      <td>3</td>\n",
       "      <td>1</td>\n",
       "      <td>inclement weather prevents liar from getting t...</td>\n",
       "      <td>https://local.theonion.com/inclement-weather-p...</td>\n",
       "    </tr>\n",
       "    <tr>\n",
       "      <td>4</td>\n",
       "      <td>1</td>\n",
       "      <td>mother comes pretty close to using word 'strea...</td>\n",
       "      <td>https://www.theonion.com/mother-comes-pretty-c...</td>\n",
       "    </tr>\n",
       "  </tbody>\n",
       "</table>\n",
       "</div>"
      ],
      "text/plain": [
       "   is_sarcastic                                           headline  \\\n",
       "0             1  thirtysomething scientists unveil doomsday clo...   \n",
       "1             0  dem rep. totally nails why congress is falling...   \n",
       "2             0  eat your veggies: 9 deliciously different recipes   \n",
       "3             1  inclement weather prevents liar from getting t...   \n",
       "4             1  mother comes pretty close to using word 'strea...   \n",
       "\n",
       "                                        article_link  \n",
       "0  https://www.theonion.com/thirtysomething-scien...  \n",
       "1  https://www.huffingtonpost.com/entry/donna-edw...  \n",
       "2  https://www.huffingtonpost.com/entry/eat-your-...  \n",
       "3  https://local.theonion.com/inclement-weather-p...  \n",
       "4  https://www.theonion.com/mother-comes-pretty-c...  "
      ]
     },
     "execution_count": 3,
     "metadata": {},
     "output_type": "execute_result"
    }
   ],
   "source": [
    "### READ DATA ###\n",
    "\n",
    "df = pd.read_json('Sarcasm_Headlines_Dataset_v2.json.zip', lines=True)\n",
    "diz_label = {0:'sarcastic', 1:'not sarcastic'}\n",
    "\n",
    "print(df.shape)\n",
    "df.head()"
   ]
  },
  {
   "cell_type": "code",
   "execution_count": 4,
   "metadata": {},
   "outputs": [
    {
     "data": {
      "text/plain": [
       "<matplotlib.axes._subplots.AxesSubplot at 0x1e8ed859470>"
      ]
     },
     "execution_count": 4,
     "metadata": {},
     "output_type": "execute_result"
    },
    {
     "data": {
      "image/png": "[encoded data removed]",
      "text/plain": [
       "<Figure size 432x432 with 1 Axes>"
      ]
     },
     "metadata": {},
     "output_type": "display_data"
    }
   ],
   "source": [
    "### PLOT LABEL DISTRIBUTION ###\n",
    "\n",
    "df.is_sarcastic.map(diz_label).value_counts().plot.pie(figsize=(6,6))"
   ]
  },
  {
   "cell_type": "code",
   "execution_count": 5,
   "metadata": {},
   "outputs": [],
   "source": [
    "### CLEAN TEXT ###\n",
    "\n",
    "df['headline'] = df.headline.str.lower().str.replace(r'['+string.digits+string.punctuation+']', ' ')\n",
    "df['headline'] = df.headline.str.split()"
   ]
  },
  {
   "cell_type": "code",
   "execution_count": 6,
   "metadata": {},
   "outputs": [],
   "source": [
    "### TRAIN TEST SPLIT ###\n",
    "\n",
    "y = np_utils.to_categorical(df.is_sarcastic.factorize()[0])\n",
    "\n",
    "X_train, X_test, y_train, y_test = train_test_split(df['headline'], y, random_state=33, test_size=0.2)"
   ]
  },
  {
   "cell_type": "code",
   "execution_count": 7,
   "metadata": {},
   "outputs": [
    {
     "name": "stdout",
     "output_type": "stream",
     "text": [
      "23601 7496\n"
     ]
    }
   ],
   "source": [
    "### HOW MANY WORDS WITH LESS THEN 3 OCCURENCIES? ###\n",
    "\n",
    "c = Counter(' '.join(X_train.str.join(' ')).split())\n",
    "word = np.asarray(list(c.keys()))\n",
    "freq = np.asarray(list(c.values()))\n",
    "\n",
    "print(len(word), len(word[freq > 3]))"
   ]
  },
  {
   "cell_type": "code",
   "execution_count": 8,
   "metadata": {},
   "outputs": [
    {
     "name": "stdout",
     "output_type": "stream",
     "text": [
      "(22895, 100) (5724, 100)\n"
     ]
    }
   ],
   "source": [
    "### TOKENIZE AND PAD SENTENCES ###\n",
    "\n",
    "max_words = len(word[freq > 3]); max_len = 100\n",
    "\n",
    "tokenizer = Tokenizer(num_words=max_words, lower=True, split='')\n",
    "tokenizer.fit_on_texts(X_train)\n",
    "\n",
    "sequence_train = tokenizer.texts_to_sequences(X_train)\n",
    "sequence_train = pad_sequences(sequence_train, maxlen=max_len)\n",
    "\n",
    "sequence_test = tokenizer.texts_to_sequences(X_test)\n",
    "sequence_test = pad_sequences(sequence_test, maxlen=max_len)\n",
    "\n",
    "sequence_train = np.asarray(sequence_train)\n",
    "sequence_test = np.asarray(sequence_test)\n",
    "\n",
    "print(sequence_train.shape, sequence_test.shape)"
   ]
  },
  {
   "cell_type": "code",
   "execution_count": 9,
   "metadata": {},
   "outputs": [],
   "source": [
    "### DEFINE MODEL WITH MULTI-SAMPLE DROPOUT ###\n",
    "\n",
    "def get_model(num):\n",
    "\n",
    "    inp = Input(shape=(max_len,))\n",
    "    emb = Embedding(len(tokenizer.word_index) + 1, 64)(inp)\n",
    "    x = SpatialDropout1D(0.2)(emb)\n",
    "    x = GRU(128, return_sequences=True, activation='relu')(x)\n",
    "    out = GRU(32, activation='relu')(x)\n",
    "    \n",
    "    dense = []\n",
    "    FC = Dense(32, activation='relu')\n",
    "    for p in np.linspace(0.1,0.5, num):\n",
    "        x = Dropout(p)(out)\n",
    "        x = FC(x)\n",
    "        x = Dense(y_train.shape[1], activation='softmax')(x)\n",
    "        dense.append(x)\n",
    "        \n",
    "    model = Model(inp, dense)\n",
    "    model.compile(loss='categorical_crossentropy', \n",
    "                  optimizer='adam', metrics=['accuracy'])\n",
    "    \n",
    "    return model"
   ]
  },
  {
   "cell_type": "code",
   "execution_count": 10,
   "metadata": {},
   "outputs": [
    {
     "name": "stdout",
     "output_type": "stream",
     "text": [
      "WARNING:tensorflow:From C:\\Users\\cerly\\Anaconda3\\lib\\site-packages\\tensorflow\\python\\framework\\op_def_library.py:263: colocate_with (from tensorflow.python.framework.ops) is deprecated and will be removed in a future version.\n",
      "Instructions for updating:\n",
      "Colocations handled automatically by placer.\n",
      "WARNING:tensorflow:From C:\\Users\\cerly\\Anaconda3\\lib\\site-packages\\keras\\backend\\tensorflow_backend.py:3445: calling dropout (from tensorflow.python.ops.nn_ops) with keep_prob is deprecated and will be removed in a future version.\n",
      "Instructions for updating:\n",
      "Please use `rate` instead of `keep_prob`. Rate should be set to `rate = 1 - keep_prob`.\n",
      "__________________________________________________________________________________________________\n",
      "Layer (type)                    Output Shape         Param #     Connected to                     \n",
      "==================================================================================================\n",
      "input_1 (InputLayer)            (None, 100)          0                                            \n",
      "__________________________________________________________________________________________________\n",
      "embedding_1 (Embedding)         (None, 100, 64)      1510528     input_1[0][0]                    \n",
      "__________________________________________________________________________________________________\n",
      "spatial_dropout1d_1 (SpatialDro (None, 100, 64)      0           embedding_1[0][0]                \n",
      "__________________________________________________________________________________________________\n",
      "gru_1 (GRU)                     (None, 100, 128)     74112       spatial_dropout1d_1[0][0]        \n",
      "__________________________________________________________________________________________________\n",
      "gru_2 (GRU)                     (None, 32)           15456       gru_1[0][0]                      \n",
      "__________________________________________________________________________________________________\n",
      "dropout_1 (Dropout)             (None, 32)           0           gru_2[0][0]                      \n",
      "__________________________________________________________________________________________________\n",
      "dropout_2 (Dropout)             (None, 32)           0           gru_2[0][0]                      \n",
      "__________________________________________________________________________________________________\n",
      "dropout_3 (Dropout)             (None, 32)           0           gru_2[0][0]                      \n",
      "__________________________________________________________________________________________________\n",
      "dense_1 (Dense)                 (None, 32)           1056        dropout_1[0][0]                  \n",
      "                                                                 dropout_2[0][0]                  \n",
      "                                                                 dropout_3[0][0]                  \n",
      "__________________________________________________________________________________________________\n",
      "dense_2 (Dense)                 (None, 2)            66          dense_1[0][0]                    \n",
      "__________________________________________________________________________________________________\n",
      "dense_3 (Dense)                 (None, 2)            66          dense_1[1][0]                    \n",
      "__________________________________________________________________________________________________\n",
      "dense_4 (Dense)                 (None, 2)            66          dense_1[2][0]                    \n",
      "==================================================================================================\n",
      "Total params: 1,601,350\n",
      "Trainable params: 1,601,350\n",
      "Non-trainable params: 0\n",
      "__________________________________________________________________________________________________\n"
     ]
    }
   ],
   "source": [
    "model = get_model(3)\n",
    "model.summary()"
   ]
  },
  {
   "cell_type": "code",
   "execution_count": 11,
   "metadata": {},
   "outputs": [
    {
     "name": "stdout",
     "output_type": "stream",
     "text": [
      "WARNING:tensorflow:From C:\\Users\\cerly\\Anaconda3\\lib\\site-packages\\tensorflow\\python\\ops\\math_ops.py:3066: to_int32 (from tensorflow.python.ops.math_ops) is deprecated and will be removed in a future version.\n",
      "Instructions for updating:\n",
      "Use tf.cast instead.\n",
      "Train on 20605 samples, validate on 2290 samples\n",
      "Epoch 1/50\n",
      " - 26s - loss: 2.0015 - dense_6_loss: 0.6668 - dense_7_loss: 0.6656 - dense_8_loss: 0.6691 - dense_6_acc: 0.5819 - dense_7_acc: 0.5736 - dense_8_acc: 0.5644 - val_loss: 1.5525 - val_dense_6_loss: 0.5161 - val_dense_7_loss: 0.5133 - val_dense_8_loss: 0.5230 - val_dense_6_acc: 0.7764 - val_dense_7_acc: 0.7808 - val_dense_8_acc: 0.7865\n",
      "Epoch 2/50\n",
      " - 23s - loss: 1.2159 - dense_6_loss: 0.3915 - dense_7_loss: 0.4007 - dense_8_loss: 0.4236 - dense_6_acc: 0.8333 - dense_7_acc: 0.8327 - dense_8_acc: 0.8233 - val_loss: 1.0774 - val_dense_6_loss: 0.3617 - val_dense_7_loss: 0.3629 - val_dense_8_loss: 0.3528 - val_dense_6_acc: 0.8376 - val_dense_7_acc: 0.8367 - val_dense_8_acc: 0.8393\n",
      "Epoch 3/50\n",
      " - 23s - loss: 0.8051 - dense_6_loss: 0.2602 - dense_7_loss: 0.2669 - dense_8_loss: 0.2780 - dense_6_acc: 0.8981 - dense_7_acc: 0.8963 - dense_8_acc: 0.8942 - val_loss: 0.9813 - val_dense_6_loss: 0.3277 - val_dense_7_loss: 0.3262 - val_dense_8_loss: 0.3274 - val_dense_6_acc: 0.8607 - val_dense_7_acc: 0.8616 - val_dense_8_acc: 0.8607\n",
      "Epoch 4/50\n",
      " - 23s - loss: 0.6236 - dense_6_loss: 0.2008 - dense_7_loss: 0.2059 - dense_8_loss: 0.2169 - dense_6_acc: 0.9234 - dense_7_acc: 0.9229 - dense_8_acc: 0.9239 - val_loss: 1.0203 - val_dense_6_loss: 0.3402 - val_dense_7_loss: 0.3391 - val_dense_8_loss: 0.3410 - val_dense_6_acc: 0.8620 - val_dense_7_acc: 0.8620 - val_dense_8_acc: 0.8620\n",
      "Epoch 5/50\n",
      " - 22s - loss: 0.5152 - dense_6_loss: 0.1667 - dense_7_loss: 0.1705 - dense_8_loss: 0.1780 - dense_6_acc: 0.9386 - dense_7_acc: 0.9380 - dense_8_acc: 0.9361 - val_loss: 1.0805 - val_dense_6_loss: 0.3608 - val_dense_7_loss: 0.3609 - val_dense_8_loss: 0.3587 - val_dense_6_acc: 0.8550 - val_dense_7_acc: 0.8546 - val_dense_8_acc: 0.8563\n",
      "Epoch 6/50\n",
      " - 23s - loss: 0.4350 - dense_6_loss: 0.1398 - dense_7_loss: 0.1435 - dense_8_loss: 0.1517 - dense_6_acc: 0.9506 - dense_7_acc: 0.9504 - dense_8_acc: 0.9499 - val_loss: 1.2588 - val_dense_6_loss: 0.4209 - val_dense_7_loss: 0.4221 - val_dense_8_loss: 0.4159 - val_dense_6_acc: 0.8498 - val_dense_7_acc: 0.8507 - val_dense_8_acc: 0.8507\n",
      "Epoch 7/50\n",
      " - 22s - loss: 0.3579 - dense_6_loss: 0.1152 - dense_7_loss: 0.1183 - dense_8_loss: 0.1244 - dense_6_acc: 0.9599 - dense_7_acc: 0.9589 - dense_8_acc: 0.9571 - val_loss: 1.4655 - val_dense_6_loss: 0.4883 - val_dense_7_loss: 0.4907 - val_dense_8_loss: 0.4865 - val_dense_6_acc: 0.8524 - val_dense_7_acc: 0.8511 - val_dense_8_acc: 0.8524\n",
      "Epoch 8/50\n",
      " - 23s - loss: 0.3014 - dense_6_loss: 0.0967 - dense_7_loss: 0.0998 - dense_8_loss: 0.1050 - dense_6_acc: 0.9665 - dense_7_acc: 0.9669 - dense_8_acc: 0.9651 - val_loss: 1.6220 - val_dense_6_loss: 0.5399 - val_dense_7_loss: 0.5442 - val_dense_8_loss: 0.5378 - val_dense_6_acc: 0.8450 - val_dense_7_acc: 0.8454 - val_dense_8_acc: 0.8450\n",
      "Epoch 9/50\n",
      " - 26s - loss: 0.2505 - dense_6_loss: 0.0797 - dense_7_loss: 0.0822 - dense_8_loss: 0.0886 - dense_6_acc: 0.9726 - dense_7_acc: 0.9719 - dense_8_acc: 0.9703 - val_loss: 1.7892 - val_dense_6_loss: 0.5979 - val_dense_7_loss: 0.5988 - val_dense_8_loss: 0.5925 - val_dense_6_acc: 0.8450 - val_dense_7_acc: 0.8450 - val_dense_8_acc: 0.8450\n",
      "Epoch 10/50\n",
      " - 22s - loss: 0.2187 - dense_6_loss: 0.0701 - dense_7_loss: 0.0719 - dense_8_loss: 0.0767 - dense_6_acc: 0.9761 - dense_7_acc: 0.9764 - dense_8_acc: 0.9752 - val_loss: 1.9785 - val_dense_6_loss: 0.6597 - val_dense_7_loss: 0.6644 - val_dense_8_loss: 0.6544 - val_dense_6_acc: 0.8502 - val_dense_7_acc: 0.8502 - val_dense_8_acc: 0.8502\n",
      "Epoch 11/50\n",
      " - 22s - loss: 0.1990 - dense_6_loss: 0.0636 - dense_7_loss: 0.0655 - dense_8_loss: 0.0699 - dense_6_acc: 0.9786 - dense_7_acc: 0.9780 - dense_8_acc: 0.9771 - val_loss: 2.1314 - val_dense_6_loss: 0.7067 - val_dense_7_loss: 0.7150 - val_dense_8_loss: 0.7097 - val_dense_6_acc: 0.8406 - val_dense_7_acc: 0.8406 - val_dense_8_acc: 0.8424\n",
      "Epoch 12/50\n",
      " - 23s - loss: 0.1705 - dense_6_loss: 0.0542 - dense_7_loss: 0.0559 - dense_8_loss: 0.0605 - dense_6_acc: 0.9811 - dense_7_acc: 0.9811 - dense_8_acc: 0.9804 - val_loss: 2.2734 - val_dense_6_loss: 0.7568 - val_dense_7_loss: 0.7639 - val_dense_8_loss: 0.7527 - val_dense_6_acc: 0.8437 - val_dense_7_acc: 0.8437 - val_dense_8_acc: 0.8450\n",
      "Epoch 13/50\n",
      " - 22s - loss: 0.1333 - dense_6_loss: 0.0428 - dense_7_loss: 0.0436 - dense_8_loss: 0.0470 - dense_6_acc: 0.9851 - dense_7_acc: 0.9854 - dense_8_acc: 0.9852 - val_loss: 2.8102 - val_dense_6_loss: 0.9336 - val_dense_7_loss: 0.9433 - val_dense_8_loss: 0.9333 - val_dense_6_acc: 0.8489 - val_dense_7_acc: 0.8485 - val_dense_8_acc: 0.8485\n",
      "Restoring model weights from the end of the best epoch\n",
      "Epoch 00013: early stopping\n"
     ]
    }
   ],
   "source": [
    "es = EarlyStopping(monitor='val_loss', mode='auto', restore_best_weights=True, verbose=1, patience=10)\n",
    "\n",
    "model = get_model(3)\n",
    "history = model.fit(sequence_train, [y_train]*3, batch_size=512, epochs=50, \n",
    "                    verbose=2, validation_split=0.1, callbacks=[es])"
   ]
  },
  {
   "cell_type": "code",
   "execution_count": 12,
   "metadata": {},
   "outputs": [],
   "source": [
    "pred_prob_test = np.mean(model.predict(sequence_test), axis=0)\n",
    "pred_test = np.argmax(pred_prob_test, axis=1)"
   ]
  },
  {
   "cell_type": "code",
   "execution_count": 13,
   "metadata": {},
   "outputs": [
    {
     "name": "stdout",
     "output_type": "stream",
     "text": [
      "               precision    recall  f1-score   support\n",
      "\n",
      "not sarcastic       0.86      0.85      0.85      3017\n",
      "    sarcastic       0.84      0.84      0.84      2707\n",
      "\n",
      "     accuracy                           0.85      5724\n",
      "    macro avg       0.85      0.85      0.85      5724\n",
      " weighted avg       0.85      0.85      0.85      5724\n",
      "\n"
     ]
    }
   ],
   "source": [
    "print(classification_report([diz_label[np.argmax(label)] for label in y_test], \n",
    "                            [diz_label[label] for label in pred_test]))"
   ]
  },
  {
   "cell_type": "code",
   "execution_count": 14,
   "metadata": {},
   "outputs": [
    {
     "data": {
      "image/png": "[encoded data removed]",
      "text/plain": [
       "<Figure size 504x504 with 1 Axes>"
      ]
     },
     "metadata": {
      "needs_background": "light"
     },
     "output_type": "display_data"
    }
   ],
   "source": [
    "cnf_matrix = confusion_matrix([diz_label[np.argmax(label)] for label in y_test], \n",
    "                              [diz_label[label] for label in pred_test])\n",
    "\n",
    "plt.figure(figsize=(7,7))\n",
    "plot_confusion_matrix(cnf_matrix, classes=list(diz_label.values()))\n",
    "plt.show()"
   ]
  },
  {
   "cell_type": "code",
   "execution_count": null,
   "metadata": {},
   "outputs": [],
   "source": []
  }
 ],
 "metadata": {
  "kernelspec": {
   "display_name": "Python 3",
   "language": "python",
   "name": "python3"
  },
  "language_info": {
   "codemirror_mode": {
    "name": "ipython",
    "version": 3
   },
   "file_extension": ".py",
   "mimetype": "text/x-python",
   "name": "python",
   "nbconvert_exporter": "python",
   "pygments_lexer": "ipython3",
   "version": "3.6.8"
  }
 },
 "nbformat": 4,
 "nbformat_minor": 2
}
