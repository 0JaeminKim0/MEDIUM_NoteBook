{
 "cells": [
  {
   "cell_type": "code",
   "execution_count": 1,
   "metadata": {},
   "outputs": [
    {
     "name": "stderr",
     "output_type": "stream",
     "text": [
      "Using TensorFlow backend.\n"
     ]
    }
   ],
   "source": [
    "import numpy as np\n",
    "import pandas as pd\n",
    "import matplotlib.pyplot as plt\n",
    "from collections import *\n",
    "import string\n",
    "import itertools\n",
    "\n",
    "from keras.preprocessing.text import Tokenizer\n",
    "from keras.preprocessing.sequence import pad_sequences\n",
    "from keras.layers import *\n",
    "from keras.models import *\n",
    "from keras.callbacks import *\n",
    "from keras.utils import np_utils\n",
    "\n",
    "from sklearn.model_selection import train_test_split\n",
    "from sklearn.metrics import classification_report, confusion_matrix"
   ]
  },
  {
   "cell_type": "code",
   "execution_count": 2,
   "metadata": {},
   "outputs": [],
   "source": [
    "def plot_confusion_matrix(cm, classes, title='Confusion matrix', cmap=plt.cm.Blues):\n",
    "\n",
    "    cm = cm.astype('float') / cm.sum(axis=1)[:, np.newaxis]\n",
    "\n",
    "    plt.imshow(cm, interpolation='nearest', cmap=cmap)\n",
    "    plt.title(title, fontsize=25)\n",
    "    #plt.colorbar()\n",
    "    tick_marks = np.arange(len(classes))\n",
    "    plt.xticks(tick_marks, classes, rotation=90, fontsize=15)\n",
    "    plt.yticks(tick_marks, classes, fontsize=15)\n",
    "\n",
    "    fmt = '.2f'\n",
    "    thresh = cm.max() / 2.\n",
    "    for i, j in itertools.product(range(cm.shape[0]), range(cm.shape[1])):\n",
    "        plt.text(j, i, format(cm[i, j], fmt),\n",
    "                 horizontalalignment=\"center\",\n",
    "                 color=\"white\" if cm[i, j] > thresh else \"black\", fontsize = 14)\n",
    "\n",
    "    plt.ylabel('True label', fontsize=20)\n",
    "    plt.xlabel('Predicted label', fontsize=20)"
   ]
  },
  {
   "cell_type": "code",
   "execution_count": 3,
   "metadata": {},
   "outputs": [
    {
     "name": "stdout",
     "output_type": "stream",
     "text": [
      "(28619, 3)\n"
     ]
    },
    {
     "data": {
      "text/html": [
       "<div>\n",
       "<style scoped>\n",
       "    .dataframe tbody tr th:only-of-type {\n",
       "        vertical-align: middle;\n",
       "    }\n",
       "\n",
       "    .dataframe tbody tr th {\n",
       "        vertical-align: top;\n",
       "    }\n",
       "\n",
       "    .dataframe thead th {\n",
       "        text-align: right;\n",
       "    }\n",
       "</style>\n",
       "<table border=\"1\" class=\"dataframe\">\n",
       "  <thead>\n",
       "    <tr style=\"text-align: right;\">\n",
       "      <th></th>\n",
       "      <th>is_sarcastic</th>\n",
       "      <th>headline</th>\n",
       "      <th>article_link</th>\n",
       "    </tr>\n",
       "  </thead>\n",
       "  <tbody>\n",
       "    <tr>\n",
       "      <td>0</td>\n",
       "      <td>1</td>\n",
       "      <td>thirtysomething scientists unveil doomsday clo...</td>\n",
       "      <td>https://www.theonion.com/thirtysomething-scien...</td>\n",
       "    </tr>\n",
       "    <tr>\n",
       "      <td>1</td>\n",
       "      <td>0</td>\n",
       "      <td>dem rep. totally nails why congress is falling...</td>\n",
       "      <td>https://www.huffingtonpost.com/entry/donna-edw...</td>\n",
       "    </tr>\n",
       "    <tr>\n",
       "      <td>2</td>\n",
       "      <td>0</td>\n",
       "      <td>eat your veggies: 9 deliciously different recipes</td>\n",
       "      <td>https://www.huffingtonpost.com/entry/eat-your-...</td>\n",
       "    </tr>\n",
       "    <tr>\n",
       "      <td>3</td>\n",
       "      <td>1</td>\n",
       "      <td>inclement weather prevents liar from getting t...</td>\n",
       "      <td>https://local.theonion.com/inclement-weather-p...</td>\n",
       "    </tr>\n",
       "    <tr>\n",
       "      <td>4</td>\n",
       "      <td>1</td>\n",
       "      <td>mother comes pretty close to using word 'strea...</td>\n",
       "      <td>https://www.theonion.com/mother-comes-pretty-c...</td>\n",
       "    </tr>\n",
       "  </tbody>\n",
       "</table>\n",
       "</div>"
      ],
      "text/plain": [
       "   is_sarcastic                                           headline  \\\n",
       "0             1  thirtysomething scientists unveil doomsday clo...   \n",
       "1             0  dem rep. totally nails why congress is falling...   \n",
       "2             0  eat your veggies: 9 deliciously different recipes   \n",
       "3             1  inclement weather prevents liar from getting t...   \n",
       "4             1  mother comes pretty close to using word 'strea...   \n",
       "\n",
       "                                        article_link  \n",
       "0  https://www.theonion.com/thirtysomething-scien...  \n",
       "1  https://www.huffingtonpost.com/entry/donna-edw...  \n",
       "2  https://www.huffingtonpost.com/entry/eat-your-...  \n",
       "3  https://local.theonion.com/inclement-weather-p...  \n",
       "4  https://www.theonion.com/mother-comes-pretty-c...  "
      ]
     },
     "execution_count": 3,
     "metadata": {},
     "output_type": "execute_result"
    }
   ],
   "source": [
    "### READ DATA ###\n",
    "\n",
    "df = pd.read_json('Sarcasm_Headlines_Dataset_v2.json.zip', lines=True)\n",
    "diz_label = {0:'sarcastic', 1:'not sarcastic'}\n",
    "\n",
    "print(df.shape)\n",
    "df.head()"
   ]
  },
  {
   "cell_type": "code",
   "execution_count": 4,
   "metadata": {},
   "outputs": [
    {
     "data": {
      "text/plain": [
       "<matplotlib.axes._subplots.AxesSubplot at 0x22d7ff9d4a8>"
      ]
     },
     "execution_count": 4,
     "metadata": {},
     "output_type": "execute_result"
    },
    {
     "data": {
      "image/png": "[encoded data removed]",
      "text/plain": [
       "<Figure size 432x432 with 1 Axes>"
      ]
     },
     "metadata": {},
     "output_type": "display_data"
    }
   ],
   "source": [
    "### PLOT LABEL DISTRIBUTION ###\n",
    "\n",
    "df.is_sarcastic.map(diz_label).value_counts().plot.pie(figsize=(6,6))"
   ]
  },
  {
   "cell_type": "code",
   "execution_count": 5,
   "metadata": {},
   "outputs": [],
   "source": [
    "### CLEAN TEXT ###\n",
    "\n",
    "df['headline'] = df.headline.str.lower().str.replace(r'['+string.digits+string.punctuation+']', ' ')\n",
    "df['headline'] = df.headline.str.split()"
   ]
  },
  {
   "cell_type": "code",
   "execution_count": 6,
   "metadata": {},
   "outputs": [],
   "source": [
    "### TRAIN TEST SPLIT ###\n",
    "\n",
    "y = np_utils.to_categorical(df.is_sarcastic.factorize()[0])\n",
    "\n",
    "X_train, X_test, y_train, y_test = train_test_split(df['headline'], y, random_state=33, test_size=0.2)"
   ]
  },
  {
   "cell_type": "code",
   "execution_count": 7,
   "metadata": {},
   "outputs": [
    {
     "name": "stdout",
     "output_type": "stream",
     "text": [
      "23601 7496\n"
     ]
    }
   ],
   "source": [
    "### HOW MANY WORDS WITH LESS THEN 3 OCCURENCIES? ###\n",
    "\n",
    "c = Counter(' '.join(X_train.str.join(' ')).split())\n",
    "word = np.asarray(list(c.keys()))\n",
    "freq = np.asarray(list(c.values()))\n",
    "\n",
    "print(len(word), len(word[freq > 3]))"
   ]
  },
  {
   "cell_type": "code",
   "execution_count": 8,
   "metadata": {},
   "outputs": [
    {
     "name": "stdout",
     "output_type": "stream",
     "text": [
      "(22895, 100) (5724, 100)\n"
     ]
    }
   ],
   "source": [
    "### TOKENIZE AND PAD SENTENCES ###\n",
    "\n",
    "max_words = len(word[freq > 3]); max_len = 100\n",
    "\n",
    "tokenizer = Tokenizer(num_words=max_words, lower=True, split='')\n",
    "tokenizer.fit_on_texts(X_train)\n",
    "\n",
    "sequence_train = tokenizer.texts_to_sequences(X_train)\n",
    "sequence_train = pad_sequences(sequence_train, maxlen=max_len)\n",
    "\n",
    "sequence_test = tokenizer.texts_to_sequences(X_test)\n",
    "sequence_test = pad_sequences(sequence_test, maxlen=max_len)\n",
    "\n",
    "sequence_train = np.asarray(sequence_train)\n",
    "sequence_test = np.asarray(sequence_test)\n",
    "\n",
    "print(sequence_train.shape, sequence_test.shape)"
   ]
  },
  {
   "cell_type": "code",
   "execution_count": 9,
   "metadata": {},
   "outputs": [],
   "source": [
    "### DEFINE MODEL WITH MULTI-SAMPLE DROPOUT ###\n",
    "\n",
    "def get_model(num):\n",
    "\n",
    "    inp = Input(shape=(max_len,))\n",
    "    emb = Embedding(len(tokenizer.word_index) + 1, 64)(inp)\n",
    "    x = SpatialDropout1D(0.2)(emb)\n",
    "    x = GRU(128, return_sequences=True, activation='relu')(x)\n",
    "    out = GRU(32, activation='relu')(x)\n",
    "    \n",
    "    dense = []\n",
    "    FC = Dense(32, activation='relu')\n",
    "    for p in np.linspace(0.1,0.5, num):\n",
    "        x = FC(out)\n",
    "        x = Dropout(p)(x)\n",
    "        x = Dense(y_train.shape[1], activation='softmax')(x)\n",
    "        dense.append(x)\n",
    "        \n",
    "    model = Model(inp, dense)\n",
    "    model.compile(loss='categorical_crossentropy', \n",
    "                  optimizer='adam', metrics=['accuracy'])\n",
    "    \n",
    "    return model"
   ]
  },
  {
   "cell_type": "code",
   "execution_count": 10,
   "metadata": {},
   "outputs": [
    {
     "name": "stdout",
     "output_type": "stream",
     "text": [
      "WARNING:tensorflow:From C:\\Users\\cerly\\Anaconda3\\lib\\site-packages\\tensorflow\\python\\framework\\op_def_library.py:263: colocate_with (from tensorflow.python.framework.ops) is deprecated and will be removed in a future version.\n",
      "Instructions for updating:\n",
      "Colocations handled automatically by placer.\n",
      "WARNING:tensorflow:From C:\\Users\\cerly\\Anaconda3\\lib\\site-packages\\keras\\backend\\tensorflow_backend.py:3445: calling dropout (from tensorflow.python.ops.nn_ops) with keep_prob is deprecated and will be removed in a future version.\n",
      "Instructions for updating:\n",
      "Please use `rate` instead of `keep_prob`. Rate should be set to `rate = 1 - keep_prob`.\n",
      "__________________________________________________________________________________________________\n",
      "Layer (type)                    Output Shape         Param #     Connected to                     \n",
      "==================================================================================================\n",
      "input_1 (InputLayer)            (None, 100)          0                                            \n",
      "__________________________________________________________________________________________________\n",
      "embedding_1 (Embedding)         (None, 100, 64)      1510528     input_1[0][0]                    \n",
      "__________________________________________________________________________________________________\n",
      "spatial_dropout1d_1 (SpatialDro (None, 100, 64)      0           embedding_1[0][0]                \n",
      "__________________________________________________________________________________________________\n",
      "gru_1 (GRU)                     (None, 100, 128)     74112       spatial_dropout1d_1[0][0]        \n",
      "__________________________________________________________________________________________________\n",
      "gru_2 (GRU)                     (None, 32)           15456       gru_1[0][0]                      \n",
      "__________________________________________________________________________________________________\n",
      "dense_1 (Dense)                 (None, 32)           1056        gru_2[0][0]                      \n",
      "                                                                 gru_2[0][0]                      \n",
      "                                                                 gru_2[0][0]                      \n",
      "__________________________________________________________________________________________________\n",
      "dropout_1 (Dropout)             (None, 32)           0           dense_1[0][0]                    \n",
      "__________________________________________________________________________________________________\n",
      "dropout_2 (Dropout)             (None, 32)           0           dense_1[1][0]                    \n",
      "__________________________________________________________________________________________________\n",
      "dropout_3 (Dropout)             (None, 32)           0           dense_1[2][0]                    \n",
      "__________________________________________________________________________________________________\n",
      "dense_2 (Dense)                 (None, 2)            66          dropout_1[0][0]                  \n",
      "__________________________________________________________________________________________________\n",
      "dense_3 (Dense)                 (None, 2)            66          dropout_2[0][0]                  \n",
      "__________________________________________________________________________________________________\n",
      "dense_4 (Dense)                 (None, 2)            66          dropout_3[0][0]                  \n",
      "==================================================================================================\n",
      "Total params: 1,601,350\n",
      "Trainable params: 1,601,350\n",
      "Non-trainable params: 0\n",
      "__________________________________________________________________________________________________\n"
     ]
    }
   ],
   "source": [
    "model = get_model(3)\n",
    "model.summary()"
   ]
  },
  {
   "cell_type": "code",
   "execution_count": 11,
   "metadata": {},
   "outputs": [
    {
     "name": "stdout",
     "output_type": "stream",
     "text": [
      "WARNING:tensorflow:From C:\\Users\\cerly\\Anaconda3\\lib\\site-packages\\tensorflow\\python\\ops\\math_ops.py:3066: to_int32 (from tensorflow.python.ops.math_ops) is deprecated and will be removed in a future version.\n",
      "Instructions for updating:\n",
      "Use tf.cast instead.\n",
      "Train on 20605 samples, validate on 2290 samples\n",
      "Epoch 1/50\n",
      " - 21s - loss: 1.9387 - dense_6_loss: 0.6385 - dense_7_loss: 0.6524 - dense_8_loss: 0.6477 - dense_6_acc: 0.6263 - dense_7_acc: 0.6428 - dense_8_acc: 0.6140 - val_loss: 1.3915 - val_dense_6_loss: 0.4516 - val_dense_7_loss: 0.4786 - val_dense_8_loss: 0.4613 - val_dense_6_acc: 0.8214 - val_dense_7_acc: 0.8258 - val_dense_8_acc: 0.8210\n",
      "Epoch 2/50\n",
      " - 18s - loss: 1.1444 - dense_6_loss: 0.3560 - dense_7_loss: 0.3767 - dense_8_loss: 0.4117 - dense_6_acc: 0.8544 - dense_7_acc: 0.8472 - dense_8_acc: 0.8265 - val_loss: 0.9782 - val_dense_6_loss: 0.3253 - val_dense_7_loss: 0.3260 - val_dense_8_loss: 0.3270 - val_dense_6_acc: 0.8590 - val_dense_7_acc: 0.8576 - val_dense_8_acc: 0.8594\n",
      "Epoch 3/50\n",
      " - 16s - loss: 0.8023 - dense_6_loss: 0.2491 - dense_7_loss: 0.2643 - dense_8_loss: 0.2889 - dense_6_acc: 0.9058 - dense_7_acc: 0.9032 - dense_8_acc: 0.8969 - val_loss: 0.9625 - val_dense_6_loss: 0.3208 - val_dense_7_loss: 0.3203 - val_dense_8_loss: 0.3214 - val_dense_6_acc: 0.8651 - val_dense_7_acc: 0.8651 - val_dense_8_acc: 0.8655\n",
      "Epoch 4/50\n",
      " - 16s - loss: 0.6450 - dense_6_loss: 0.2011 - dense_7_loss: 0.2119 - dense_8_loss: 0.2321 - dense_6_acc: 0.9270 - dense_7_acc: 0.9264 - dense_8_acc: 0.9228 - val_loss: 1.0455 - val_dense_6_loss: 0.3482 - val_dense_7_loss: 0.3494 - val_dense_8_loss: 0.3479 - val_dense_6_acc: 0.8563 - val_dense_7_acc: 0.8559 - val_dense_8_acc: 0.8555\n",
      "Epoch 5/50\n",
      " - 16s - loss: 0.5364 - dense_6_loss: 0.1668 - dense_7_loss: 0.1738 - dense_8_loss: 0.1958 - dense_6_acc: 0.9420 - dense_7_acc: 0.9405 - dense_8_acc: 0.9406 - val_loss: 1.1587 - val_dense_6_loss: 0.3859 - val_dense_7_loss: 0.3906 - val_dense_8_loss: 0.3822 - val_dense_6_acc: 0.8555 - val_dense_7_acc: 0.8563 - val_dense_8_acc: 0.8563\n",
      "Epoch 6/50\n",
      " - 16s - loss: 0.4536 - dense_6_loss: 0.1406 - dense_7_loss: 0.1481 - dense_8_loss: 0.1648 - dense_6_acc: 0.9505 - dense_7_acc: 0.9484 - dense_8_acc: 0.9493 - val_loss: 1.3832 - val_dense_6_loss: 0.4629 - val_dense_7_loss: 0.4566 - val_dense_8_loss: 0.4637 - val_dense_6_acc: 0.8568 - val_dense_7_acc: 0.8563 - val_dense_8_acc: 0.8563\n",
      "Epoch 7/50\n",
      " - 15s - loss: 0.3902 - dense_6_loss: 0.1216 - dense_7_loss: 0.1297 - dense_8_loss: 0.1389 - dense_6_acc: 0.9577 - dense_7_acc: 0.9557 - dense_8_acc: 0.9568 - val_loss: 1.5003 - val_dense_6_loss: 0.4936 - val_dense_7_loss: 0.4944 - val_dense_8_loss: 0.5123 - val_dense_6_acc: 0.8415 - val_dense_7_acc: 0.8419 - val_dense_8_acc: 0.8419\n",
      "Epoch 8/50\n",
      " - 17s - loss: 0.3435 - dense_6_loss: 0.1071 - dense_7_loss: 0.1136 - dense_8_loss: 0.1228 - dense_6_acc: 0.9615 - dense_7_acc: 0.9611 - dense_8_acc: 0.9603 - val_loss: 1.7957 - val_dense_6_loss: 0.5902 - val_dense_7_loss: 0.5939 - val_dense_8_loss: 0.6116 - val_dense_6_acc: 0.8480 - val_dense_7_acc: 0.8489 - val_dense_8_acc: 0.8480\n",
      "Epoch 9/50\n",
      " - 17s - loss: 0.2762 - dense_6_loss: 0.0863 - dense_7_loss: 0.0921 - dense_8_loss: 0.0977 - dense_6_acc: 0.9700 - dense_7_acc: 0.9693 - dense_8_acc: 0.9692 - val_loss: 1.9260 - val_dense_6_loss: 0.6302 - val_dense_7_loss: 0.6423 - val_dense_8_loss: 0.6536 - val_dense_6_acc: 0.8437 - val_dense_7_acc: 0.8445 - val_dense_8_acc: 0.8437\n",
      "Epoch 10/50\n",
      " - 16s - loss: 0.2322 - dense_6_loss: 0.0722 - dense_7_loss: 0.0767 - dense_8_loss: 0.0833 - dense_6_acc: 0.9750 - dense_7_acc: 0.9746 - dense_8_acc: 0.9746 - val_loss: 2.1646 - val_dense_6_loss: 0.7017 - val_dense_7_loss: 0.7158 - val_dense_8_loss: 0.7471 - val_dense_6_acc: 0.8445 - val_dense_7_acc: 0.8445 - val_dense_8_acc: 0.8445\n",
      "Epoch 11/50\n",
      " - 16s - loss: 0.2814 - dense_6_loss: 0.0894 - dense_7_loss: 0.0925 - dense_8_loss: 0.0995 - dense_6_acc: 0.9685 - dense_7_acc: 0.9681 - dense_8_acc: 0.9681 - val_loss: 1.9818 - val_dense_6_loss: 0.6485 - val_dense_7_loss: 0.6580 - val_dense_8_loss: 0.6753 - val_dense_6_acc: 0.8428 - val_dense_7_acc: 0.8428 - val_dense_8_acc: 0.8424\n",
      "Epoch 12/50\n",
      " - 15s - loss: 0.1866 - dense_6_loss: 0.0577 - dense_7_loss: 0.0615 - dense_8_loss: 0.0674 - dense_6_acc: 0.9816 - dense_7_acc: 0.9817 - dense_8_acc: 0.9807 - val_loss: 2.4147 - val_dense_6_loss: 0.7889 - val_dense_7_loss: 0.8017 - val_dense_8_loss: 0.8241 - val_dense_6_acc: 0.8463 - val_dense_7_acc: 0.8441 - val_dense_8_acc: 0.8441\n",
      "Epoch 13/50\n",
      " - 17s - loss: 0.1523 - dense_6_loss: 0.0468 - dense_7_loss: 0.0499 - dense_8_loss: 0.0556 - dense_6_acc: 0.9843 - dense_7_acc: 0.9843 - dense_8_acc: 0.9838 - val_loss: 2.7016 - val_dense_6_loss: 0.8769 - val_dense_7_loss: 0.8917 - val_dense_8_loss: 0.9329 - val_dense_6_acc: 0.8441 - val_dense_7_acc: 0.8432 - val_dense_8_acc: 0.8424\n",
      "Restoring model weights from the end of the best epoch\n",
      "Epoch 00013: early stopping\n"
     ]
    }
   ],
   "source": [
    "es = EarlyStopping(monitor='val_loss', mode='auto', restore_best_weights=True, verbose=1, patience=10)\n",
    "\n",
    "model = get_model(3)\n",
    "history = model.fit(sequence_train, [y_train]*3, batch_size=512, epochs=50, \n",
    "                    verbose=2, validation_split=0.1, callbacks=[es])"
   ]
  },
  {
   "cell_type": "code",
   "execution_count": 12,
   "metadata": {},
   "outputs": [],
   "source": [
    "pred_prob_test = np.mean(model.predict(sequence_test), axis=0)\n",
    "pred_test = np.argmax(pred_prob_test, axis=1)"
   ]
  },
  {
   "cell_type": "code",
   "execution_count": 13,
   "metadata": {},
   "outputs": [
    {
     "name": "stdout",
     "output_type": "stream",
     "text": [
      "               precision    recall  f1-score   support\n",
      "\n",
      "not sarcastic       0.86      0.84      0.85      3017\n",
      "    sarcastic       0.83      0.84      0.83      2707\n",
      "\n",
      "     accuracy                           0.84      5724\n",
      "    macro avg       0.84      0.84      0.84      5724\n",
      " weighted avg       0.84      0.84      0.84      5724\n",
      "\n"
     ]
    }
   ],
   "source": [
    "print(classification_report([diz_label[np.argmax(label)] for label in y_test], \n",
    "                            [diz_label[label] for label in pred_test]))"
   ]
  },
  {
   "cell_type": "code",
   "execution_count": 14,
   "metadata": {},
   "outputs": [
    {
     "data": {
      "image/png": "[encoded data removed]",
      "text/plain": [
       "<Figure size 504x504 with 1 Axes>"
      ]
     },
     "metadata": {
      "needs_background": "light"
     },
     "output_type": "display_data"
    }
   ],
   "source": [
    "cnf_matrix = confusion_matrix([diz_label[np.argmax(label)] for label in y_test], \n",
    "                              [diz_label[label] for label in pred_test])\n",
    "\n",
    "plt.figure(figsize=(7,7))\n",
    "plot_confusion_matrix(cnf_matrix, classes=list(diz_label.values()))\n",
    "plt.show()"
   ]
  }
 ],
 "metadata": {
  "kernelspec": {
   "display_name": "Python 3",
   "language": "python",
   "name": "python3"
  },
  "language_info": {
   "codemirror_mode": {
    "name": "ipython",
    "version": 3
   },
   "file_extension": ".py",
   "mimetype": "text/x-python",
   "name": "python",
   "nbconvert_exporter": "python",
   "pygments_lexer": "ipython3",
   "version": "3.6.8"
  }
 },
 "nbformat": 4,
 "nbformat_minor": 2
}
